{
 "cells": [
  {
   "cell_type": "code",
   "execution_count": 29,
   "metadata": {},
   "outputs": [
    {
     "name": "stdout",
     "output_type": "stream",
     "text": [
      "{'G': 2, 'e': 4, 'k': 2, 's': 2}\n"
     ]
    }
   ],
   "source": [
    "#Print all the duplicates in the input string\n",
    "string ='Geeks for Geeks'\n",
    "string=string.replace(\" \",\"\")\n",
    "my_dict={i:string.count(i) for i in string if string.count(i)>1}\n",
    "print(my_dict)\n"
   ]
  },
  {
   "cell_type": "code",
   "execution_count": 36,
   "metadata": {},
   "outputs": [
    {
     "data": {
      "text/plain": [
       "{'l'}"
      ]
     },
     "execution_count": 36,
     "metadata": {},
     "output_type": "execute_result"
    }
   ],
   "source": [
    "s = 'hello'\n",
    "set([i for i in s if s.count(i) > 1])"
   ]
  },
  {
   "cell_type": "code",
   "execution_count": 10,
   "metadata": {},
   "outputs": [
    {
     "name": "stdout",
     "output_type": "stream",
     "text": [
      "Geksfor\n"
     ]
    }
   ],
   "source": [
    "# removing all duplicate charecters\n",
    "string ='GeeksforGeeks'\n",
    "output=''\n",
    "for ch in string:\n",
    "    if ch not in output:\n",
    "        output=output+ch\n",
    "    \n",
    "print(output)"
   ]
  },
  {
   "cell_type": "raw",
   "metadata": {},
   "source": [
    "# # Python3 code to remove whitespace\n",
    "# def remove(string):\n",
    "# \treturn \"\".join(string.split())\n",
    "\t\n",
    "# Driver Program\n",
    "string = ' g e e k '\n",
    "a=string.split()\n",
    "b=\"\".join(a)\n",
    "print(b)\n",
    "\n",
    "#Removing white spaces:\n"
   ]
  },
  {
   "cell_type": "code",
   "execution_count": 30,
   "metadata": {},
   "outputs": [],
   "source": [
    "#GEEKS FOR GEEKS SOLUTION:\n",
    "# Python program to count all\n",
    "# duplicates from string using hashing\n",
    "NO_OF_CHARS = 256\n",
    "\n",
    "# Fills count array with\n",
    "# frequency of characters\n",
    "def fillCharCounts(string, count):\n",
    "\tfor i in string:\n",
    "\t\tcount[ord(i)] += 1\n",
    "\treturn count\n",
    "\n",
    "# Print duplicates present\n",
    "# in the passed string\n",
    "def printDups(string):\n",
    "\t\n",
    "\t# Create an array of size 256\n",
    "\t# and fill count of every character in it\n",
    "\tcount = [0] * NO_OF_CHARS\n",
    "\tcount = fillCharCounts(string,count)\n",
    "\n",
    "\t# Utility Variable\n",
    "\tk = 0\n",
    "\n",
    "\t# Print characters having\n",
    "\t# count more than 0\n",
    "\tfor i in count:\n",
    "\t\tif int(i) > 1:\n",
    "\t\t\tprint chr(k) + \", count = \" + str(i)\n",
    "\t\tk += 1\n",
    "\n",
    "# Driver program to test the above function\n",
    "string = \"test string\"\n",
    "print printDups(string)\n",
    "\n",
    "# This code is contributed by Bhavya Jain\n"
   ]
  },
  {
   "cell_type": "code",
   "execution_count": null,
   "metadata": {},
   "outputs": [],
   "source": []
  },
  {
   "cell_type": "code",
   "execution_count": null,
   "metadata": {},
   "outputs": [],
   "source": []
  }
 ],
 "metadata": {
  "kernelspec": {
   "display_name": "Python 3",
   "language": "python",
   "name": "python3"
  },
  "language_info": {
   "codemirror_mode": {
    "name": "ipython",
    "version": 3
   },
   "file_extension": ".py",
   "mimetype": "text/x-python",
   "name": "python",
   "nbconvert_exporter": "python",
   "pygments_lexer": "ipython3",
   "version": "3.9.2"
  }
 },
 "nbformat": 4,
 "nbformat_minor": 4
}
