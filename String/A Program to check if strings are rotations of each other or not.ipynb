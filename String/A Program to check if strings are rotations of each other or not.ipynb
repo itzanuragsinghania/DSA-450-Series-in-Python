{
 "cells": [
  {
   "cell_type": "code",
   "execution_count": 2,
   "metadata": {},
   "outputs": [],
   "source": [
    "#A Program to check if strings are rotations of each other or not\n"
   ]
  },
  {
   "cell_type": "code",
   "execution_count": 51,
   "metadata": {},
   "outputs": [
    {
     "name": "stdout",
     "output_type": "stream",
     "text": [
      "Strings are rotations of each other\n"
     ]
    }
   ],
   "source": [
    "def areRotations(str1,str2):\n",
    "    size1=len(str1)\n",
    "    size2=len(str2)\n",
    "    if size1 != size2:\n",
    "        return 0\n",
    "    \n",
    "    \n",
    "    temp=str1+str1\n",
    "    if temp.count(str2)>0: # it tells us the no.of occurences of str2 in the combined string of str1 and str2\n",
    "        return 1 # hence if it occurs only once i.e > 0 it returns True\n",
    "    else:\n",
    "        return 0\n",
    "    \n",
    "str1=\"AACD\"\n",
    "str2=\"ACDA\"\n",
    "\n",
    "if areRotations(str1, str2):\n",
    "    print(\"Strings are rotations of each other\")\n",
    "else:\n",
    "    print(\"Strings are not rotations of each other\")\n",
    "\n"
   ]
  },
  {
   "cell_type": "code",
   "execution_count": 54,
   "metadata": {},
   "outputs": [
    {
     "name": "stdout",
     "output_type": "stream",
     "text": [
      "avwvn\n",
      "ABACDABACD\n",
      "Strings are not rotations of each other\n"
     ]
    }
   ],
   "source": [
    "def areRotations(str1,str2):\n",
    "    size1=len(str1)\n",
    "    size2=len(str2)\n",
    "    if size1 != size2:\n",
    "        return 0\n",
    "    \n",
    "    \n",
    "    temp=str1+str1\n",
    "    print(temp)\n",
    "    if str2 in temp: # it tells us the no.of occurences of str2 in the combined string of str1 and str2\n",
    "        return 1 # hence if it occurs only once i.e > 0 it returns True\n",
    "    else:\n",
    "        return 0\n",
    "    \n",
    "str1=\"ABACD\"\n",
    "str2=input().upper()\n",
    "\n",
    "if areRotations(str1, str2):\n",
    "    print(\"Strings are rotations of each other\")\n",
    "else:\n",
    "    print(\"Strings are not rotations of each other\")\n",
    "\n"
   ]
  },
  {
   "cell_type": "code",
   "execution_count": null,
   "metadata": {},
   "outputs": [],
   "source": []
  },
  {
   "cell_type": "code",
   "execution_count": null,
   "metadata": {},
   "outputs": [],
   "source": []
  }
 ],
 "metadata": {
  "kernelspec": {
   "display_name": "Python 3",
   "language": "python",
   "name": "python3"
  },
  "language_info": {
   "codemirror_mode": {
    "name": "ipython",
    "version": 3
   },
   "file_extension": ".py",
   "mimetype": "text/x-python",
   "name": "python",
   "nbconvert_exporter": "python",
   "pygments_lexer": "ipython3",
   "version": "3.9.2"
  }
 },
 "nbformat": 4,
 "nbformat_minor": 4
}
