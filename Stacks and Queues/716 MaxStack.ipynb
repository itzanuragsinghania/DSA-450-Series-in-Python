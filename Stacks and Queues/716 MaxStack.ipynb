{
 "cells": [
  {
   "cell_type": "code",
   "execution_count": 4,
   "metadata": {},
   "outputs": [
    {
     "name": "stdout",
     "output_type": "stream",
     "text": [
      "3\n",
      "3\n",
      "7\n"
     ]
    }
   ],
   "source": [
    "class MaxStack:\n",
    "    def __init__(self):\n",
    "        self.stack = []\n",
    "        self.max = []\n",
    "        self.size = 0\n",
    "    def push(self,x:int): # push element onto stack\n",
    "        self.stack.append(x)\n",
    "        if self.size==0:\n",
    "            self.max.append(x)\n",
    "        else:\n",
    "            if x >= self.max[-1]:\n",
    "                self.max.append(x)\n",
    "            self.size+=1\n",
    "    def pop(self):# remove the top most element and return\n",
    "        item = self.stack.pop()\n",
    "        if item == self.max[-1]:\n",
    "            self.max.pop()\n",
    "        \n",
    "    def top(self):# get the top element\n",
    "        return self.stack[-1]\n",
    "        \n",
    "    def peekMax(self): # Retrive the max element in the stack\n",
    "        return self.max[-1]\n",
    "        pass\n",
    "    def popMax(self): # Retrive the max element in the stack and remove it \n",
    "        return self.max.pop()\n",
    "    \n",
    "c1=MaxStack()\n",
    "c1.push(10)\n",
    "c1.push(7)\n",
    "c1.push(3)\n",
    "c1.push(5)\n",
    "c1.push(1)\n",
    "# print(c1.stack)\n",
    "c1.pop()\n",
    "# print(c1.top())\n",
    "c1.pop()\n",
    "print(c1.peekMax())\n",
    "print(c1.popMax())\n",
    "print(c1.peekMax())\n",
    "\n",
    "\n",
    "# print(c1.min)\n",
    "# print(c1.stack)"
   ]
  },
  {
   "cell_type": "code",
   "execution_count": null,
   "metadata": {},
   "outputs": [],
   "source": []
  }
 ],
 "metadata": {
  "kernelspec": {
   "display_name": "Python 3",
   "language": "python",
   "name": "python3"
  },
  "language_info": {
   "codemirror_mode": {
    "name": "ipython",
    "version": 3
   },
   "file_extension": ".py",
   "mimetype": "text/x-python",
   "name": "python",
   "nbconvert_exporter": "python",
   "pygments_lexer": "ipython3",
   "version": "3.9.2"
  }
 },
 "nbformat": 4,
 "nbformat_minor": 4
}
