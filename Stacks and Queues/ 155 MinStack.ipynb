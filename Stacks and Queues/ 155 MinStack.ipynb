{
 "cells": [
  {
   "cell_type": "code",
   "execution_count": null,
   "metadata": {},
   "outputs": [],
   "source": [
    "# Leetcode accepted solution\n",
    "class MinStack:\n",
    "\n",
    "    def __init__(self):\n",
    "        \"\"\"\n",
    "        initialize your data structure here.\n",
    "       \"\"\"\n",
    "        self.stack=[]\n",
    "        self.min=[]\n",
    "        self.size=0\n",
    "        \n",
    "\n",
    "    def push(self, x: int) -> None:\n",
    "        if self.size==0:\n",
    "            self.min.append(x)\n",
    "        else:\n",
    "            if x <= self.min[-1]:\n",
    "                self.min.append(x)\n",
    "        self.stack.append(x)\n",
    "        self.size+=1\n",
    "\n",
    "    def pop(self) -> None:\n",
    "        item = self.stack.pop()\n",
    "        self.size-=1\n",
    "        if item == self.min[-1]:\n",
    "            self.min.pop()\n",
    "\n",
    "    def top(self) -> int:\n",
    "        return self.stack[-1]\n",
    "\n",
    "        \n",
    "\n",
    "    def getMin(self) -> int:\n",
    "        return self.min[-1]\n",
    "\n",
    "\n",
    "# Your MinStack object will be instantiated and called as such:\n",
    "# obj = MinStack()\n",
    "# obj.push(val)\n",
    "# obj.pop()\n",
    "# param_3 = obj.top()\n",
    "# param_4 = obj.getMin()"
   ]
  },
  {
   "cell_type": "code",
   "execution_count": 13,
   "metadata": {},
   "outputs": [
    {
     "name": "stdout",
     "output_type": "stream",
     "text": [
      "3\n"
     ]
    }
   ],
   "source": [
    "class MinStack:\n",
    "    # initializing our data structure here\n",
    "    def __init__(self):\n",
    "        self.stack=[]\n",
    "        self.min=[]\n",
    "        self.size=0\n",
    "        \n",
    "    def push(self,x:int):\n",
    "        # as the stack are empty we simply push ur value at the boto of this stack\n",
    "        self.stack.append(x)\n",
    "        '''\n",
    "        Here we check i the item we are pushing is < than a previous at its top one if yes we append the\n",
    "        new minimum value this part is the main logic part of the program if not understood refer to subham\n",
    "        sarda dsa course from oreily\n",
    "        '''\n",
    "        if x not in  self.min or x<=self.min[-1]:\n",
    "            self.min.append(x)\n",
    "    def pop(self):\n",
    "        \"\"\"\n",
    "        This simply pop out the top most item in the stack\n",
    "        we also try to remove the same elemnt from the min stack \n",
    "        coz the item is being popped out from the main stack\n",
    "        hence it makes no sense to be in min if its not in the main stack\n",
    "        \"\"\"\n",
    "        item = self.stack.pop()\n",
    "        if item == self.min[-1]:\n",
    "            self.min.pop()\n",
    "        \n",
    "    def top(self):\n",
    "        \"\"\"\n",
    "        This gives or return the topmost item from main stack\n",
    "        \"\"\"\n",
    "        return self.stack[-1]\n",
    "        \n",
    "    def getMin(self):\n",
    "#     This gives or return the topmost item from min stack\n",
    "        return self.min[-1]\n",
    "    \n",
    "c1=MinStack()\n",
    "c1.push(10)\n",
    "c1.push(7)\n",
    "c1.push(3)\n",
    "c1.push(5)\n",
    "c1.push(1)\n",
    "# print(c1.stack)\n",
    "c1.pop()\n",
    "# print(c1.top())\n",
    "c1.pop()\n",
    "print(c1.getMin())\n",
    "# print(c1.min)\n",
    "# print(c1.stack)"
   ]
  },
  {
   "cell_type": "code",
   "execution_count": null,
   "metadata": {},
   "outputs": [],
   "source": [
    "# 1   3\n",
    "# 5   7\n",
    "# 3   10\n",
    "# 7\n",
    "# 10    \n",
    "    \n"
   ]
  }
 ],
 "metadata": {
  "kernelspec": {
   "display_name": "Python 3",
   "language": "python",
   "name": "python3"
  },
  "language_info": {
   "codemirror_mode": {
    "name": "ipython",
    "version": 3
   },
   "file_extension": ".py",
   "mimetype": "text/x-python",
   "name": "python",
   "nbconvert_exporter": "python",
   "pygments_lexer": "ipython3",
   "version": "3.9.2"
  }
 },
 "nbformat": 4,
 "nbformat_minor": 4
}
